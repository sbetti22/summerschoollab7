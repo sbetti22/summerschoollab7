{
 "cells": [
  {
   "cell_type": "markdown",
   "metadata": {},
   "source": [
    "# Lab 7: Starting your Final Project!\n",
    "\n",
    "## Name: \n",
    "\n",
    "---\n",
    "\n",
    "Today we are going to take everything we have learned and start your final project!  Yesterday, we reviewed the fundamentals of data reduction, star clusters, and asking scientific questions.  For the next 2 weeks, we are going to take all those ideas and apply them to astronomical data in order to answer the questions you created!   \n",
    "\n",
    "Yesterday, your group was assigned an open cluster.  Over the next week, you will learn about your cluster, and reduce the data, perform photometry on your data and then create a Color-Magnitude Diagram.  \n",
    "\n",
    "It is highly recommend saving your notebooks + reduced data in a google drive, email, or another online storage location of your choice.  \n",
    "\n",
    "The first steps to reducing and analysing any data is calibration!      \n",
    "\n",
    "As you learned earlier, you will be reducing two targets -- your cluster and your standard star.  As you are in groups of 2 or 3, each member of your group will reduce data in 1 filter (either B, V, R, or I) which you will then combine with your groupmates in order to create your CMD.      \n",
    "\n",
    "To calibrate and reduce our data, we are going to perform the following steps *over the next couple of days*:\n",
    "\n",
    "1. Reduce our data using calibration biases, darks, and flats!\n",
    "    \n",
    "     $\\mathrm{Final\\ reduced\\ image} = \\frac{\\mathrm{ science\\ image} - \\mathrm{calibration\\ bias} -  \\mathrm{calibration\\ dark \\ (at\\ same\\ exposure\\ time\\ as\\ science\\ image)}}{  \\mathrm{calibration\\ flat}}$\n",
    "2. Align each individual image to each other.\n",
    "3. Stack our individual images in each band!\n",
    "4. Start analysis!\n"
   ]
  },
  {
   "cell_type": "markdown",
   "metadata": {},
   "source": [
    "## Refresher: What are these \"Final Calibration Images\"?  \n",
    "\n",
    "Why is this step so important?  Why are we creating final calibration frames?  And why would we combine many images into a single one?  \n",
    "\n",
    "<img src=\"final_cal_image.png\">\n",
    "\n",
    "When we combine our images, we can remove any outliers that can contaminate a single image which would affect our science image if we tried to subtract that outlier.  Therefore, doing bias subtraction is very important to creating well calibrated data. \n",
    "\n",
    "# 7.1 Calibrate Science and Standard Data\n",
    "\n",
    "We have provided you these final calibration images in their already reduced and ready to go format, so you can start reducing your data!\n",
    "\n",
    "You have each been assigned a filter to reduce.  In the cell below, change **V** to the band you will be reducing: \n",
    "- B\n",
    "- V\n",
    "- R\n",
    "- I\n"
   ]
  },
  {
   "cell_type": "code",
   "execution_count": null,
   "metadata": {},
   "outputs": [],
   "source": [
    "band = 'V' #default is V, but be sure to change this if you are using a different band\n"
   ]
  },
  {
   "cell_type": "markdown",
   "metadata": {},
   "source": [
    "Now, let's get the paths to all of our final calibration images.  \n",
    "\n",
    "First is the main path to the folder where you data is located (i.e. the location where your data is stored).  Use the example in the comment in the cell below to create the path on your computer to your data."
   ]
  },
  {
   "cell_type": "code",
   "execution_count": null,
   "metadata": {},
   "outputs": [],
   "source": [
    "# Example:\n",
    "# datadir = '/Users/sarah/Documents/Data/M52/'\n",
    "\n",
    "datadir = '/Users/sarah/Desktop/NGC6811/' < - mac\n",
    "datadir = 'C:\\\\Users\\\\sarah\\\\Desktop\\\\NGC6811\\\\' <- windows V1\n",
    "datadir = 'C:/Users/sarah/Desktop/NGC6811/' <- windows V2\n"
   ]
  },
  {
   "cell_type": "code",
   "execution_count": null,
   "metadata": {},
   "outputs": [],
   "source": [
    "bias_path = datadir + 'Cal/Bias.fit'\n",
    "flat_path = datadir + 'Cal/Flat_'+band+'band.fit'\n",
    "dark_path = datadir + 'Cal/Dark_60s.fit'"
   ]
  },
  {
   "cell_type": "markdown",
   "metadata": {},
   "source": [
    "Now, lets work through the standard star data apply our calibrations to the data!  You will then work through the cluster data!  "
   ]
  },
  {
   "cell_type": "code",
   "execution_count": null,
   "metadata": {},
   "outputs": [],
   "source": [
    "# The standard fare:\n",
    "%matplotlib inline\n",
    "\n",
    "import numpy as np\n",
    "import matplotlib.pyplot as plt\n",
    "\n",
    "from astropy.io import fits\n",
    "from astropy.visualization import ZScaleInterval\n",
    "interval = ZScaleInterval()\n",
    "import glob\n",
    "import os"
   ]
  },
  {
   "cell_type": "code",
   "execution_count": null,
   "metadata": {},
   "outputs": [],
   "source": [
    "# fill in the name of the folder with your standard star data\n",
    "#(e.g.: std_star = 'standard_G3-33')\n",
    "\n",
    "std_star = '??'"
   ]
  },
  {
   "cell_type": "code",
   "execution_count": null,
   "metadata": {},
   "outputs": [],
   "source": [
    "# Get path and glob together our standard star frames\n",
    "\n",
    "# fill in the ?? with the name of the standard star folder\n",
    "std_datadir = datadir + ?? + '/'+band+'band/'\n",
    "\n",
    "# glob all files in std_datadir\n",
    "std_files = glob.glob(std_datadir + '*.fit')\n",
    "\n",
    "print(band+' band standard star images')\n",
    "print(np.array(std_files))"
   ]
  },
  {
   "cell_type": "markdown",
   "metadata": {},
   "source": [
    "## 7.1.1 Bias Subtraction\n",
    "\n",
    "Our first step is to subtract off the bias.  This is because every single image we take (science and calibration) has some bias (or extra positive counts which are added to each image).  We need to get rid of these extra counts in order to figure out how much light is actually coming from our astronomical objects, or from the flat frame.   \n",
    " \n",
    "\n",
    "Now, let's subtract the bias from our standard star frames. Do this below for all of the files, using your `bias_subtract` function.\n",
    "\n",
    "\n",
    "    "
   ]
  },
  {
   "cell_type": "code",
   "execution_count": null,
   "metadata": {},
   "outputs": [],
   "source": [
    "def bias_subtract(filename, path_to_bias, outpath):\n",
    "    \n",
    "    print('bias subtracting: ',filename)\n",
    "    # open up the flat field and/or science image\n",
    "    frame_data = fits.getdata(filename)\n",
    "    \n",
    "    # open up the header information for the flat field and/or science image\n",
    "    frame_header = fits.getheader(filename)\n",
    "    \n",
    "    # open up the master bias image\n",
    "    master_bias_data = fits.getdata(path_to_bias)\n",
    "    \n",
    "    # subtract off the bias from the flat field and/or science image  \n",
    "    bias_subtracted = frame_data - master_bias_data\n",
    "    \n",
    "    # new_filename is taking the name of your file: '/path/to/your/cluster/clusterfolder/calibration/darks/dark60s.fit')  \n",
    "    # and splitting it up at every '/' and put it in a list: ['path', 'to', 'your', cluster', ... ,'darks', 'dark60s.fit']\n",
    "    # and taking the last string in the list (e.g. new_filename = 'dark60s.fit').  \n",
    "    new_filename = filename.split('/')[-1]\n",
    "    \n",
    "    print('bias subtracted image save as: ', datadir + outpath + 'b_' + new_filename)\n",
    "    fits.writeto(datadir + outpath + 'b_' + new_filename, bias_subtracted, frame_header,overwrite=True)\n",
    "    print()\n",
    "    return "
   ]
  },
  {
   "cell_type": "markdown",
   "metadata": {},
   "source": [
    "<div class=\"alert alert-block alert-danger\">\n",
    "    \n",
    "Go through the function above.  Try to write a short description of what the function is doing, using both the code and the comments.\n",
    "\n",
    "\n",
    "**Answer:**"
   ]
  },
  {
   "cell_type": "code",
   "execution_count": null,
   "metadata": {},
   "outputs": [],
   "source": [
    "# Now, we bias subtract all the standard star data using our final calibration bias. \n",
    "\n",
    "# We will first remove any existing bias subtracted frames.\n",
    "b_stddata = glob.glob(datadir + std_star + '/'+band+'band/b*.fit*')\n",
    "for im in b_stddata:\n",
    "    os.remove(im)\n",
    "    \n",
    "# reglob files incase you deleted any b_ files\n",
    "std_files = glob.glob(std_datadir + '*.fit')\n",
    "\n",
    "#go through all the band frames and apply the final calibration bias\n",
    "for fitsfile in std_files:\n",
    "    bias_subtract(fitsfile, bias_path, std_star + '/'+band+'band/')"
   ]
  },
  {
   "cell_type": "markdown",
   "metadata": {},
   "source": [
    "You should now have twice the number of standard star in the band directory, half of which have the prefix 'b_'. These are the frames we want to subtract out the dark current and and flat field.\n",
    "\n",
    "<div class=\"alert alert-block alert-warning\"> \n",
    "    \n",
    "Check the folder with you standard star frames and make sure these files exist."
   ]
  },
  {
   "cell_type": "code",
   "execution_count": null,
   "metadata": {},
   "outputs": [],
   "source": [
    "# Glob your b_ standard star files\n",
    "\n",
    "# glob all files in std_datadir\n",
    "b_std_files = glob.glob(std_datadir + 'b_*.fit')\n",
    "\n",
    "print(band+' band bias subtracted standard star images')\n",
    "print(np.array(b_std_files))"
   ]
  },
  {
   "cell_type": "markdown",
   "metadata": {},
   "source": [
    "## 7.1.2 Dark Subtraction\n",
    "\n",
    "Now, we will want to subtract the dark contribution from the bias subtracted frames. This can be accomplished by creating a new function below, `dark_subtract`, that looks very much like your `bias_subtract` function. \n",
    "\n",
    " * Most importantly, the final calibration dark you subtract must matches the exposure time of your science images! \n",
    "\n",
    "We will now dark subtract our bias subtracted files using the `dark_subtract` function below and the 60s final calibration dark.  We are going to scale our final calibration dark to match the exposure time of the standard stars. "
   ]
  },
  {
   "cell_type": "code",
   "execution_count": null,
   "metadata": {},
   "outputs": [],
   "source": [
    "# dark subtraction function here:\n",
    "\n",
    "def dark_subtract(filename, path_to_dark, outpath):\n",
    "    '''\n",
    "    performs dark subtraction on your flat/science fields. \n",
    "    '''\n",
    "    \n",
    "    # open the flat/science field data and header\n",
    "    frame_data = fits.getdata(filename)\n",
    "    frame_header = fits.getheader(filename)\n",
    "    \n",
    "    #open the final calibration dark frame with the same exposure time as your data. \n",
    "    cal_dark_data = fits.getdata(path_to_dark)\n",
    "    \n",
    "    #subtract off the dark current \n",
    "    if frame_header['EXPTIME'] != fits.getheader(path_to_dark)['EXPTIME']:\n",
    "        scale = frame_header['EXPTIME'] / fits.getheader(path_to_dark)['EXPTIME']\n",
    "        cal_dark_data = scale * cal_dark_data\n",
    "    \n",
    "    dark_subtracted = frame_data - cal_dark_data\n",
    "    \n",
    "    new_filename = filename.split('/')[-1]\n",
    "    \n",
    "    print('dark subtracted image save as: ', datadir + outpath + 'd' + new_filename)\n",
    "    fits.writeto(datadir + outpath + 'd' + new_filename, dark_subtracted, frame_header,overwrite=True)\n",
    "    print()\n",
    "    return "
   ]
  },
  {
   "cell_type": "markdown",
   "metadata": {},
   "source": [
    "<div class=\"alert alert-block alert-danger\">\n",
    "    \n",
    "1. Go through the function above.  Try to write a short description of what the function is doing, using both the code and the comments.\n",
    "\n",
    "\n",
    "**Answer:**\n",
    "    \n",
    "2. What exposure times are your standard star frames.  Will the function need to scale your final calibration dark?\n",
    "    \n",
    "**Answer:**"
   ]
  },
  {
   "cell_type": "code",
   "execution_count": null,
   "metadata": {},
   "outputs": [],
   "source": [
    "# We will first remove any existing dark subtracted frames.\n",
    "db_stddata = glob.glob(datadir + std_star + '/'+band+'band/db*.fit*')\n",
    "for im in db_stddata:\n",
    "    os.remove(im)\n",
    "\n",
    "print('dark subtracting standard star '+band+'band')\n",
    "for b_sci_image in b_std_files:\n",
    "\n",
    "    dark_subtract(b_sci_image, dark_path, std_star + '/'+band+'band/')\n",
    "    "
   ]
  },
  {
   "cell_type": "markdown",
   "metadata": {},
   "source": [
    "When you save your dark-subtracted images, another prefix is added to the file name.  Also, it's important to only dark subtract the **already bias-subtracted images**. For example, your function should subtract the dark current from 'b_standardstar1.fit', and then make a new FITS file called 'db_stardardstar1.fit'."
   ]
  },
  {
   "cell_type": "markdown",
   "metadata": {},
   "source": [
    "## 7.1.3 Normalize by Flat Field\n",
    "\n",
    "Finally, we flat field our standard star data by dividing out bias subtracted, dark subtracted frames with the normalized final calibration flat.\n",
    "\n",
    "First, glob the bias and dark subtracted data frames."
   ]
  },
  {
   "cell_type": "code",
   "execution_count": null,
   "metadata": {},
   "outputs": [],
   "source": [
    "# Glob your db_ standard star files\n",
    "\n",
    "# glob all files in std_datadir\n",
    "db_std_files = glob.glob(std_datadir + 'db_*.fit')\n",
    "\n",
    "print(band+' band bias/dark subtracted standard star images')\n",
    "print(np.array(db_std_files))"
   ]
  },
  {
   "cell_type": "code",
   "execution_count": null,
   "metadata": {},
   "outputs": [],
   "source": [
    "# We will first remove any existing flat normalized frames.\n",
    "fdb_stddata = glob.glob(datadir + std_star + '/'+band+'band/fdb*.fit*')\n",
    "for im in fdb_stddata:\n",
    "    os.remove(im)\n",
    "\n",
    "\n",
    "# flat field the db_ standard star frames.\n",
    "print('flat fielding db_ standard star '+band+' band')\n",
    "flat_data = fits.getdata(flat_path)\n",
    "for db_sci_image in db_std_files:\n",
    "    #open the data and header for the db_ image\n",
    "    db_sci_data = fits.getdata(db_sci_image)\n",
    "    db_sci_hdr = fits.getheader(db_sci_image)\n",
    "\n",
    "    #divide the science image by the final calibration flat field\n",
    "    fdb_sci_image = db_sci_data / flat_data\n",
    "    \n",
    "    #save the new flat fielded image!\n",
    "    sci_name = db_sci_image.split('/')[-1]\n",
    "    outpath = std_star + '/'+band+'band/'\n",
    "    \n",
    "    print('image saved to: ' + datadir + outpath + 'f' + sci_name)\n",
    "    fits.writeto(datadir + outpath + 'f' + sci_name, fdb_sci_image, db_sci_hdr, overwrite=True )\n",
    "    "
   ]
  },
  {
   "cell_type": "markdown",
   "metadata": {},
   "source": [
    "## Congrats!  You have now calibrated your standard star data!  Let's take a look at it."
   ]
  },
  {
   "cell_type": "code",
   "execution_count": null,
   "metadata": {},
   "outputs": [],
   "source": [
    "# plot a raw standard star frame and a final calibrated standard star frame.\n",
    "\n",
    "#glob together all the flat field calibrated standard star data\n",
    "final_std_files = glob.glob(datadir + std_star + '/'+band+'band/fdb*.fit')\n",
    "\n",
    "#Now, use fits.getdata to read in a raw standard star file.\n",
    "# replace ?? with a 0.\n",
    "raw_std_file = fits.getdata(std_files[??])\n",
    "\n",
    "# replace ?? with a 0.\n",
    "final_std_file = fits.getdata(final_std_files[??])\n",
    "\n",
    "\n",
    "fig, (ax1, ax2) = plt.subplots(figsize=(15,4), nrows=1, ncols=2)\n",
    "vmin, vmax = interval.get_limits(raw_std_file)\n",
    "im1 = ax1.imshow(raw_std_file,vmin=vmin, vmax=vmax ) #plot raw standard star file\n",
    "plt.colorbar(im1, ax=ax1)\n",
    "\n",
    "vmin, vmax = interval.get_limits(final_std_file)\n",
    "im2 = ax2.imshow(final_std_file, vmin=vmin, vmax=vmax) #plot calibrated standard star file\n",
    "plt.colorbar(im2, ax=ax2)\n",
    "\n",
    "#create a title, axis labels, change the colormap, to create a nice looking plot!\n",
    "\n",
    "plt.show()"
   ]
  },
  {
   "cell_type": "markdown",
   "metadata": {},
   "source": [
    "<div class=\"alert alert-block alert-warning\">\n",
    "    \n",
    "**Question:** What are the differences in the two images?  How does bias subtracting, dark subtracting, and flat fielding our images help?\n",
    "\n",
    "**Answer:** "
   ]
  },
  {
   "cell_type": "markdown",
   "metadata": {},
   "source": [
    "##  7.2: Now it is your turn.  Calibrate your cluster data following the same steps we did above.\n",
    "\n",
    "<div class=\"alert alert-block alert-warning\">\n",
    "    \n",
    "Remember to read all comments in the cells!  There are several hints for how to run each cell."
   ]
  },
  {
   "cell_type": "code",
   "execution_count": null,
   "metadata": {},
   "outputs": [],
   "source": [
    "# fill in the name of your cluster\n",
    "cluster = '??'"
   ]
  },
  {
   "cell_type": "markdown",
   "metadata": {},
   "source": [
    "### 1) Glob together your cluster images"
   ]
  },
  {
   "cell_type": "code",
   "execution_count": null,
   "metadata": {},
   "outputs": [],
   "source": [
    "# First get the path and glob together our science frames\n",
    "\n",
    "cluster_datadir = datadir + cluster + '/'+band+'band/'\n",
    "\n",
    "# glob all files in sci_datadir\n",
    "cluster_files = glob.glob()\n",
    "\n",
    "print(band+' band science images')\n",
    "print(np.array(cluster_files))"
   ]
  },
  {
   "cell_type": "markdown",
   "metadata": {},
   "source": [
    "### 2) bias subtract all your cluster images."
   ]
  },
  {
   "cell_type": "code",
   "execution_count": null,
   "metadata": {},
   "outputs": [],
   "source": [
    "# We will first remove any existing bias subtracted frames.\n",
    "b_clusterdata = glob.glob(datadir + cluster + '/'+band+'band/b*.fit*')\n",
    "for im in b_clusterdata:\n",
    "    os.remove(im)\n",
    "    \n",
    "cluster_files = glob.glob(datadir + cluster + '/'+band+'band/*.fit*')\n",
    "\n",
    "# Bias subtract all the cluster data using our final calibration bias.\n",
    "for fitsfile in cluster_files:\n",
    "    # filename = fitsfile\n",
    "    # path_to_bias = bias_path \n",
    "    # outpath = cluster + '/'+band+'band/'\n",
    "    bias_subtract( )\n",
    "         "
   ]
  },
  {
   "cell_type": "markdown",
   "metadata": {},
   "source": [
    "### 3) Dark subtract the b_ files. But first, make a list of all the b_ cluster files using glob."
   ]
  },
  {
   "cell_type": "code",
   "execution_count": null,
   "metadata": {},
   "outputs": [],
   "source": [
    "# Glob your b_ cluster files\n",
    "\n",
    "b_cluster_files = glob.glob(\n",
    "\n",
    "print(band+' band bias subtracted science images')\n",
    "print(np.array(b_cluster_files))"
   ]
  },
  {
   "cell_type": "markdown",
   "metadata": {},
   "source": [
    "Dark subtract the cluster files."
   ]
  },
  {
   "cell_type": "code",
   "execution_count": null,
   "metadata": {},
   "outputs": [],
   "source": [
    "# We will first remove any existing dark subtracted frames.\n",
    "db_clusterdata = glob.glob(datadir + cluster + '/'+band+'band/db*.fit*')\n",
    "for im in db_clusterdata:\n",
    "    os.remove(im)\n",
    "\n",
    "print('dark subtracting cluster band')\n",
    "for b_sci_image in b_cluster_files:\n",
    "    # filename = b_sci_image\n",
    "    # path_to_dark = dark_path \n",
    "    # outpath = cluster + '/'+band+'band/'\n",
    "\n",
    "    #run the dark subtract function on your image.\n",
    "    dark_subtract(\n",
    "    "
   ]
  },
  {
   "cell_type": "markdown",
   "metadata": {},
   "source": [
    " ### 4) Flat field!"
   ]
  },
  {
   "cell_type": "code",
   "execution_count": null,
   "metadata": {},
   "outputs": [],
   "source": [
    "# Glob your db_ cluster star files\n",
    "\n",
    "# Fill in the ?? to glob the db_ cluster images.\n",
    "db_cluster_files = glob.glob(cluster_datadir + '??_*.fit')\n",
    "\n",
    "\n",
    "print(band+' band bias/dark subtracted standard star images')\n",
    "print(np.array(db_cluster_files))"
   ]
  },
  {
   "cell_type": "code",
   "execution_count": null,
   "metadata": {},
   "outputs": [],
   "source": [
    "# We will first remove any existing flat normalized frames.\n",
    "fdb_clusterdata = glob.glob(datadir + cluster + '/'+band+'band/fdb*.fit*')\n",
    "for im in fdb_clusterdata:\n",
    "    os.remove(im)\n",
    "\n",
    "\n",
    "\n",
    "# flat field the band db_ standard star frames.\n",
    "print('flat fielding db_ cluster '+band+'band')\n",
    "flat_data = fits.getdata(flat_path)\n",
    "for db_sci_image in db_cluster_files:\n",
    "    #open the data and header for the db_ image\n",
    "    db_sci_data = fits.getdata(??)\n",
    "    db_sci_hdr = fits.getheader(??)\n",
    "\n",
    "    #divide the science image (db_sci_data) by the final calibration flat field (flat_data)\n",
    "    fdb_sci_image = \n",
    "    \n",
    "    #save the new flat fielded image!\n",
    "    sci_name = db_sci_image.split('/')[-1]\n",
    "    outpath = cluster + '/'+band+'band/'\n",
    "    \n",
    "    print('image saved to: ' + datadir + outpath + 'f' + sci_name)\n",
    "    fits.writeto(datadir + outpath + 'f' + sci_name, fdb_sci_image, db_sci_hdr, overwrite=True )\n",
    "        "
   ]
  },
  {
   "cell_type": "markdown",
   "metadata": {},
   "source": [
    "## Congrats!  You have now calibrated your cluster data!  \n",
    "\n",
    "As a reminder, for both the standard star and cluster data, you applied this equation to the raw images using the above python code:\n",
    "\n",
    "$Final\\ reduced\\ image = \\frac{ science\\ image - bias -  dark \\ (at\\ same\\ exposure\\ time\\ as\\ science\\ image)}{flat}$\n",
    "\n",
    "Now, let's take a look at it.\n",
    "\n"
   ]
  },
  {
   "cell_type": "code",
   "execution_count": null,
   "metadata": {},
   "outputs": [],
   "source": [
    "# plot a raw cluster frame and a final calibrated cluster frame.\n",
    "\n",
    "#glob together all the flat field calibrated cluster data\n",
    "final_cluster_files = glob.glob(datadir + cluster + '/'+band+'band/fdb*.fit')\n",
    "\n",
    "#Now, use fits.getdata to read in a raw cluster file.\n",
    "# replace ?? with a 0.\n",
    "raw_cluster_file = fits.getdata(cluster_files[??])\n",
    "\n",
    "# replace ?? with a 0.\n",
    "final_cluster_file = fits.getdata(final_cluster_files[??])\n",
    "\n",
    "\n",
    "fig, (ax1, ax2) = plt.subplots(figsize=(15,4), nrows=1, ncols=2)\n",
    "vmin, vmax = interval.get_limits(??) #replace ?? with raw_cluster_file\n",
    "im1 = ax1.imshow(??) #plot raw cluster file, replace ?? with raw_cluster_file and any other variables to make the plot pretty!\n",
    "plt.colorbar(im1, ax=ax1)\n",
    "\n",
    "vmin, vmax = interval.get_limits(??) #replace ?? with raw_cluster_file\n",
    "im2 = ax2.imshow(??) #plot calibrated cluster file, replace ?? with raw_cluster_file and any other variables to make the plot pretty!\n",
    "plt.colorbar(im2, ax=ax2)\n",
    "\n",
    "\n",
    "#create a title, axis labels, change the colormap, to create a nice looking plot!\n",
    "\n",
    "plt.show()"
   ]
  },
  {
   "cell_type": "markdown",
   "metadata": {},
   "source": [
    "\n",
    "<div class=\"alert alert-block alert-danger\">\n",
    "\n",
    "**STOP:** Show your plot to the instructor!"
   ]
  },
  {
   "cell_type": "markdown",
   "metadata": {},
   "source": [
    "<div class=\"alert alert-block alert-warning\">\n",
    "    \n",
    "**Question:** What are the differences in the two images?  How does bias subtracting, dark subtracting, and flat fielding our images help?\n",
    "\n",
    "**Answer:** "
   ]
  },
  {
   "cell_type": "markdown",
   "metadata": {},
   "source": [
    "BONUS: Open up your images in ds9 and play around with different scalings.  How does changing the scale affect the amount of noise you see?"
   ]
  },
  {
   "cell_type": "code",
   "execution_count": null,
   "metadata": {},
   "outputs": [],
   "source": []
  }
 ],
 "metadata": {
  "kernelspec": {
   "display_name": "Python 3",
   "language": "python",
   "name": "python3"
  },
  "language_info": {
   "codemirror_mode": {
    "name": "ipython",
    "version": 3
   },
   "file_extension": ".py",
   "mimetype": "text/x-python",
   "name": "python",
   "nbconvert_exporter": "python",
   "pygments_lexer": "ipython3",
   "version": "3.8.5"
  }
 },
 "nbformat": 4,
 "nbformat_minor": 4
}
